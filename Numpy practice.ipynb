{
 "cells": [
  {
   "cell_type": "markdown",
   "id": "91533d72",
   "metadata": {},
   "source": [
    "# Numpy Array"
   ]
  },
  {
   "cell_type": "code",
   "execution_count": 2,
   "id": "bd4ddca7",
   "metadata": {},
   "outputs": [],
   "source": [
    "import numpy as np"
   ]
  },
  {
   "cell_type": "code",
   "execution_count": 5,
   "id": "b45aab09",
   "metadata": {},
   "outputs": [
    {
     "data": {
      "text/plain": [
       "array([0, 1, 2, 3, 4, 5, 6, 7, 8, 9])"
      ]
     },
     "execution_count": 5,
     "metadata": {},
     "output_type": "execute_result"
    }
   ],
   "source": [
    "np.arange(0,10)"
   ]
  },
  {
   "cell_type": "code",
   "execution_count": 6,
   "id": "5b76a9ec",
   "metadata": {},
   "outputs": [
    {
     "data": {
      "text/plain": [
       "array([[1., 1., 1., 1.],\n",
       "       [1., 1., 1., 1.],\n",
       "       [1., 1., 1., 1.]])"
      ]
     },
     "execution_count": 6,
     "metadata": {},
     "output_type": "execute_result"
    }
   ],
   "source": [
    "np.ones((3,4))"
   ]
  },
  {
   "cell_type": "code",
   "execution_count": 14,
   "id": "086405ec",
   "metadata": {},
   "outputs": [
    {
     "data": {
      "text/plain": [
       "array([[0., 0., 0., 0.],\n",
       "       [0., 0., 0., 0.],\n",
       "       [0., 0., 0., 0.]])"
      ]
     },
     "execution_count": 14,
     "metadata": {},
     "output_type": "execute_result"
    }
   ],
   "source": [
    "np.zeros((3,4))"
   ]
  },
  {
   "cell_type": "code",
   "execution_count": 16,
   "id": "520738f7",
   "metadata": {},
   "outputs": [
    {
     "data": {
      "text/plain": [
       "array([ 0. ,  2.5,  5. ,  7.5, 10. ])"
      ]
     },
     "execution_count": 16,
     "metadata": {},
     "output_type": "execute_result"
    }
   ],
   "source": [
    "np.linspace(0,10,5)"
   ]
  },
  {
   "cell_type": "code",
   "execution_count": 17,
   "id": "4dab8fbb",
   "metadata": {},
   "outputs": [
    {
     "data": {
      "text/plain": [
       "array([ 0.        ,  0.68965517,  1.37931034,  2.06896552,  2.75862069,\n",
       "        3.44827586,  4.13793103,  4.82758621,  5.51724138,  6.20689655,\n",
       "        6.89655172,  7.5862069 ,  8.27586207,  8.96551724,  9.65517241,\n",
       "       10.34482759, 11.03448276, 11.72413793, 12.4137931 , 13.10344828,\n",
       "       13.79310345, 14.48275862, 15.17241379, 15.86206897, 16.55172414,\n",
       "       17.24137931, 17.93103448, 18.62068966, 19.31034483, 20.        ])"
      ]
     },
     "execution_count": 17,
     "metadata": {},
     "output_type": "execute_result"
    }
   ],
   "source": [
    "np.linspace(0,20,30)"
   ]
  },
  {
   "cell_type": "code",
   "execution_count": 20,
   "id": "4725e147",
   "metadata": {},
   "outputs": [
    {
     "data": {
      "text/plain": [
       "array([[ 5, 10, 15],\n",
       "       [20, 25, 30],\n",
       "       [35, 40, 45]])"
      ]
     },
     "execution_count": 20,
     "metadata": {},
     "output_type": "execute_result"
    }
   ],
   "source": [
    " np.array([[5,10,15],[20,25,30],[35,40,45]])"
   ]
  },
  {
   "cell_type": "code",
   "execution_count": 24,
   "id": "4b4781d8",
   "metadata": {},
   "outputs": [],
   "source": [
    "scores = np.array([[5,10,15],[20,25,30],[35,40,45]])"
   ]
  },
  {
   "cell_type": "code",
   "execution_count": 25,
   "id": "3f16def8",
   "metadata": {},
   "outputs": [
    {
     "name": "stdout",
     "output_type": "stream",
     "text": [
      "[[ 5 10 15]\n",
      " [20 25 30]\n",
      " [35 40 45]]\n"
     ]
    }
   ],
   "source": [
    "print(scores)"
   ]
  },
  {
   "cell_type": "code",
   "execution_count": 40,
   "id": "46d5fe7c",
   "metadata": {},
   "outputs": [
    {
     "data": {
      "text/plain": [
       "array([[ 5, 10],\n",
       "       [20, 25],\n",
       "       [35, 40]])"
      ]
     },
     "execution_count": 40,
     "metadata": {},
     "output_type": "execute_result"
    }
   ],
   "source": [
    "scores[:,:2]"
   ]
  },
  {
   "cell_type": "code",
   "execution_count": 39,
   "id": "2e5d55d8",
   "metadata": {},
   "outputs": [
    {
     "data": {
      "text/plain": [
       "array([[25, 30],\n",
       "       [40, 45]])"
      ]
     },
     "execution_count": 39,
     "metadata": {},
     "output_type": "execute_result"
    }
   ],
   "source": [
    "scores[1:,1:]"
   ]
  },
  {
   "cell_type": "code",
   "execution_count": 43,
   "id": "16ee1f00",
   "metadata": {},
   "outputs": [],
   "source": [
    "class_scores = np.array([[7,0,10,20],[5,1,40,200],[1,1,4,30]])"
   ]
  },
  {
   "cell_type": "code",
   "execution_count": 44,
   "id": "967aad3f",
   "metadata": {},
   "outputs": [
    {
     "name": "stdout",
     "output_type": "stream",
     "text": [
      "[[  7   0  10  20]\n",
      " [  5   1  40 200]\n",
      " [  1   1   4  30]]\n"
     ]
    }
   ],
   "source": [
    "print(class_scores)"
   ]
  },
  {
   "cell_type": "code",
   "execution_count": 51,
   "id": "d5e1535e",
   "metadata": {},
   "outputs": [
    {
     "data": {
      "text/plain": [
       "array([[10],\n",
       "       [40],\n",
       "       [ 4]])"
      ]
     },
     "execution_count": 51,
     "metadata": {},
     "output_type": "execute_result"
    }
   ],
   "source": [
    "class_scores[:,2:3]"
   ]
  },
  {
   "cell_type": "code",
   "execution_count": 52,
   "id": "61f36934",
   "metadata": {},
   "outputs": [],
   "source": [
    "array1 = np.array([[7,0],[10,20]])"
   ]
  },
  {
   "cell_type": "code",
   "execution_count": 54,
   "id": "285240cd",
   "metadata": {},
   "outputs": [],
   "source": [
    "array2 = np.array([[5,1],[40,200]])"
   ]
  },
  {
   "cell_type": "code",
   "execution_count": 55,
   "id": "2cb98105",
   "metadata": {},
   "outputs": [
    {
     "data": {
      "text/plain": [
       "array([[ 12,   1],\n",
       "       [ 50, 220]])"
      ]
     },
     "execution_count": 55,
     "metadata": {},
     "output_type": "execute_result"
    }
   ],
   "source": [
    "array1 + array2 "
   ]
  },
  {
   "cell_type": "code",
   "execution_count": 56,
   "id": "b7739494",
   "metadata": {},
   "outputs": [
    {
     "data": {
      "text/plain": [
       "array([[1.4 , 0.  ],\n",
       "       [0.25, 0.1 ]])"
      ]
     },
     "execution_count": 56,
     "metadata": {},
     "output_type": "execute_result"
    }
   ],
   "source": [
    "array1 / array2"
   ]
  },
  {
   "cell_type": "code",
   "execution_count": 57,
   "id": "f95a7355",
   "metadata": {},
   "outputs": [
    {
     "data": {
      "text/plain": [
       "array([[ 49,   0],\n",
       "       [100, 400]], dtype=int32)"
      ]
     },
     "execution_count": 57,
     "metadata": {},
     "output_type": "execute_result"
    }
   ],
   "source": [
    "array1**2"
   ]
  },
  {
   "cell_type": "code",
   "execution_count": 59,
   "id": "4233cb8a",
   "metadata": {},
   "outputs": [
    {
     "data": {
      "text/plain": [
       "array([[  7,   5,   1],\n",
       "       [  0,   1,   1],\n",
       "       [ 10,  40,   4],\n",
       "       [ 20, 200,  30]])"
      ]
     },
     "execution_count": 59,
     "metadata": {},
     "output_type": "execute_result"
    }
   ],
   "source": [
    "class_scores.transpose()"
   ]
  },
  {
   "cell_type": "code",
   "execution_count": 61,
   "id": "9efe8593",
   "metadata": {},
   "outputs": [],
   "source": [
    "scores_1 = np.array([1,3,-2,-5,6,8,9])"
   ]
  },
  {
   "cell_type": "code",
   "execution_count": 62,
   "id": "482acf5d",
   "metadata": {},
   "outputs": [],
   "source": [
    "scores_1.sort()"
   ]
  },
  {
   "cell_type": "code",
   "execution_count": 63,
   "id": "56f62689",
   "metadata": {},
   "outputs": [
    {
     "data": {
      "text/plain": [
       "array([-5, -2,  1,  3,  6,  8,  9])"
      ]
     },
     "execution_count": 63,
     "metadata": {},
     "output_type": "execute_result"
    }
   ],
   "source": [
    "scores_1"
   ]
  },
  {
   "cell_type": "code",
   "execution_count": 64,
   "id": "ce97cfec",
   "metadata": {},
   "outputs": [],
   "source": [
    "class_scores.sort()"
   ]
  },
  {
   "cell_type": "code",
   "execution_count": 65,
   "id": "d9f3f9fc",
   "metadata": {},
   "outputs": [
    {
     "data": {
      "text/plain": [
       "array([[  0,   7,  10,  20],\n",
       "       [  1,   5,  40, 200],\n",
       "       [  1,   1,   4,  30]])"
      ]
     },
     "execution_count": 65,
     "metadata": {},
     "output_type": "execute_result"
    }
   ],
   "source": [
    "class_scores"
   ]
  },
  {
   "cell_type": "code",
   "execution_count": 70,
   "id": "20845ce0",
   "metadata": {},
   "outputs": [],
   "source": [
    "array3 = np.arange(5,14)"
   ]
  },
  {
   "cell_type": "code",
   "execution_count": 71,
   "id": "ee9eaa7b",
   "metadata": {},
   "outputs": [
    {
     "data": {
      "text/plain": [
       "array([ 5,  6,  7,  8,  9, 10, 11, 12, 13])"
      ]
     },
     "execution_count": 71,
     "metadata": {},
     "output_type": "execute_result"
    }
   ],
   "source": [
    "array3"
   ]
  },
  {
   "cell_type": "code",
   "execution_count": 72,
   "id": "27be3bee",
   "metadata": {},
   "outputs": [
    {
     "data": {
      "text/plain": [
       "array([[ 5,  6,  7],\n",
       "       [ 8,  9, 10],\n",
       "       [11, 12, 13]])"
      ]
     },
     "execution_count": 72,
     "metadata": {},
     "output_type": "execute_result"
    }
   ],
   "source": [
    "array3.reshape(3,3)"
   ]
  },
  {
   "cell_type": "code",
   "execution_count": 78,
   "id": "03c7e987",
   "metadata": {},
   "outputs": [
    {
     "data": {
      "text/plain": [
       "array([ 5,  6,  7,  8,  9, 10, 11, 12, 13])"
      ]
     },
     "execution_count": 78,
     "metadata": {},
     "output_type": "execute_result"
    }
   ],
   "source": [
    "array3.transpose()"
   ]
  },
  {
   "cell_type": "code",
   "execution_count": 1,
   "id": "dea20fcf",
   "metadata": {},
   "outputs": [],
   "source": [
    "import numpy as np"
   ]
  },
  {
   "cell_type": "code",
   "execution_count": 2,
   "id": "edac4d39",
   "metadata": {},
   "outputs": [],
   "source": [
    "a = np.arange(10,19).reshape(3,3)"
   ]
  },
  {
   "cell_type": "code",
   "execution_count": 3,
   "id": "ab33a583",
   "metadata": {},
   "outputs": [
    {
     "data": {
      "text/plain": [
       "array([[10, 11, 12],\n",
       "       [13, 14, 15],\n",
       "       [16, 17, 18]])"
      ]
     },
     "execution_count": 3,
     "metadata": {},
     "output_type": "execute_result"
    }
   ],
   "source": [
    "a"
   ]
  },
  {
   "cell_type": "code",
   "execution_count": 4,
   "id": "cfd0c55e",
   "metadata": {},
   "outputs": [
    {
     "name": "stdout",
     "output_type": "stream",
     "text": [
      "[10 11 12]\n",
      "[13 14 15]\n",
      "[16 17 18]\n"
     ]
    }
   ],
   "source": [
    "# Iterating through an array uses the for loop\n",
    "for i in a:\n",
    "    print(i)"
   ]
  },
  {
   "cell_type": "code",
   "execution_count": 5,
   "id": "eb9d7a23",
   "metadata": {},
   "outputs": [
    {
     "name": "stdout",
     "output_type": "stream",
     "text": [
      "10\n",
      "11\n",
      "12\n",
      "13\n",
      "14\n",
      "15\n",
      "16\n",
      "17\n",
      "18\n"
     ]
    }
   ],
   "source": [
    "for item in a.flat:\n",
    "    print(item)"
   ]
  },
  {
   "cell_type": "markdown",
   "id": "753a5a63",
   "metadata": {},
   "source": [
    "# apply_along_axis funtion helps u to apply a function on a row or column. if the axis = 0; then it iterates the column. if axis = 1; then it iterates the rows.\n"
   ]
  },
  {
   "cell_type": "code",
   "execution_count": 7,
   "id": "588f184b",
   "metadata": {},
   "outputs": [
    {
     "data": {
      "text/plain": [
       "array([13., 14., 15.])"
      ]
     },
     "execution_count": 7,
     "metadata": {},
     "output_type": "execute_result"
    }
   ],
   "source": [
    "np.apply_along_axis(np.mean, axis = 0, arr = a)"
   ]
  },
  {
   "cell_type": "code",
   "execution_count": 8,
   "id": "0093ed1c",
   "metadata": {},
   "outputs": [
    {
     "data": {
      "text/plain": [
       "array([11., 14., 17.])"
      ]
     },
     "execution_count": 8,
     "metadata": {},
     "output_type": "execute_result"
    }
   ],
   "source": [
    "np.apply_along_axis(np.mean, axis = 1, arr = a)"
   ]
  },
  {
   "cell_type": "code",
   "execution_count": 14,
   "id": "a85df52a",
   "metadata": {},
   "outputs": [],
   "source": [
    "def fap(x):\n",
    "    return x/2"
   ]
  },
  {
   "cell_type": "code",
   "execution_count": 15,
   "id": "b1dcfb6b",
   "metadata": {},
   "outputs": [
    {
     "data": {
      "text/plain": [
       "array([[5. , 5.5, 6. ],\n",
       "       [6.5, 7. , 7.5],\n",
       "       [8. , 8.5, 9. ]])"
      ]
     },
     "execution_count": 15,
     "metadata": {},
     "output_type": "execute_result"
    }
   ],
   "source": [
    "np.apply_along_axis(fap, axis = 1, arr = a)"
   ]
  },
  {
   "cell_type": "code",
   "execution_count": 17,
   "id": "cb0b6f4e",
   "metadata": {},
   "outputs": [],
   "source": [
    "b = np.random.random((4,4))"
   ]
  },
  {
   "cell_type": "code",
   "execution_count": 18,
   "id": "c62e334b",
   "metadata": {},
   "outputs": [
    {
     "data": {
      "text/plain": [
       "array([[0.84973069, 0.98051712, 0.71556624, 0.99639854],\n",
       "       [0.42078237, 0.79888009, 0.72965676, 0.14322794],\n",
       "       [0.94581216, 0.13545886, 0.82029864, 0.18042381],\n",
       "       [0.68747176, 0.57235159, 0.81559991, 0.14580761]])"
      ]
     },
     "execution_count": 18,
     "metadata": {},
     "output_type": "execute_result"
    }
   ],
   "source": [
    "b"
   ]
  },
  {
   "cell_type": "code",
   "execution_count": 19,
   "id": "287a23d8",
   "metadata": {},
   "outputs": [
    {
     "data": {
      "text/plain": [
       "array([[ True,  True,  True,  True],\n",
       "       [False,  True,  True, False],\n",
       "       [ True, False,  True, False],\n",
       "       [ True,  True,  True, False]])"
      ]
     },
     "execution_count": 19,
     "metadata": {},
     "output_type": "execute_result"
    }
   ],
   "source": [
    "b > 0.5"
   ]
  },
  {
   "cell_type": "code",
   "execution_count": 20,
   "id": "8ebec27f",
   "metadata": {},
   "outputs": [
    {
     "data": {
      "text/plain": [
       "array([0.84973069, 0.98051712, 0.71556624, 0.99639854, 0.79888009,\n",
       "       0.72965676, 0.94581216, 0.82029864, 0.68747176, 0.57235159,\n",
       "       0.81559991])"
      ]
     },
     "execution_count": 20,
     "metadata": {},
     "output_type": "execute_result"
    }
   ],
   "source": [
    "b[b>0.5]"
   ]
  },
  {
   "cell_type": "markdown",
   "id": "f97c01ac",
   "metadata": {},
   "source": [
    "# Joining arrays"
   ]
  },
  {
   "cell_type": "code",
   "execution_count": 22,
   "id": "3dde1471",
   "metadata": {},
   "outputs": [],
   "source": [
    "a = np.ones((3,3))\n",
    "b = np.zeros((3,3))"
   ]
  },
  {
   "cell_type": "code",
   "execution_count": 24,
   "id": "d2d8e420",
   "metadata": {},
   "outputs": [
    {
     "data": {
      "text/plain": [
       "array([[1., 1., 1.],\n",
       "       [1., 1., 1.],\n",
       "       [1., 1., 1.],\n",
       "       [0., 0., 0.],\n",
       "       [0., 0., 0.],\n",
       "       [0., 0., 0.]])"
      ]
     },
     "execution_count": 24,
     "metadata": {},
     "output_type": "execute_result"
    }
   ],
   "source": [
    "# joining vertically; column by column\n",
    "np.vstack((a, b))"
   ]
  },
  {
   "cell_type": "code",
   "execution_count": 25,
   "id": "d68f8095",
   "metadata": {},
   "outputs": [
    {
     "data": {
      "text/plain": [
       "array([[1., 1., 1., 0., 0., 0.],\n",
       "       [1., 1., 1., 0., 0., 0.],\n",
       "       [1., 1., 1., 0., 0., 0.]])"
      ]
     },
     "execution_count": 25,
     "metadata": {},
     "output_type": "execute_result"
    }
   ],
   "source": [
    "# joining horizontally; row by row\n",
    "np.hstack((a, b))"
   ]
  },
  {
   "cell_type": "code",
   "execution_count": 26,
   "id": "2bf4dd9a",
   "metadata": {},
   "outputs": [],
   "source": [
    "a = np.array([1,2,3])\n",
    "b = np.array([4,5,6])\n",
    "c = np.array([7,8,9])"
   ]
  },
  {
   "cell_type": "code",
   "execution_count": 28,
   "id": "3fece088",
   "metadata": {},
   "outputs": [
    {
     "data": {
      "text/plain": [
       "array([[1, 4, 7],\n",
       "       [2, 5, 8],\n",
       "       [3, 6, 9]])"
      ]
     },
     "execution_count": 28,
     "metadata": {},
     "output_type": "execute_result"
    }
   ],
   "source": [
    "np.column_stack((a,b,c))"
   ]
  },
  {
   "cell_type": "code",
   "execution_count": 29,
   "id": "34eb79ad",
   "metadata": {},
   "outputs": [
    {
     "data": {
      "text/plain": [
       "array([[1, 2, 3],\n",
       "       [4, 5, 6],\n",
       "       [7, 8, 9]])"
      ]
     },
     "execution_count": 29,
     "metadata": {},
     "output_type": "execute_result"
    }
   ],
   "source": [
    "np.row_stack((a,b,c))"
   ]
  },
  {
   "cell_type": "code",
   "execution_count": 30,
   "id": "05b97047",
   "metadata": {},
   "outputs": [],
   "source": [
    "# splitting arrays\n",
    "a = np.arange(16).reshape((4,4))"
   ]
  },
  {
   "cell_type": "code",
   "execution_count": 31,
   "id": "7f735af3",
   "metadata": {},
   "outputs": [
    {
     "data": {
      "text/plain": [
       "array([[ 0,  1,  2,  3],\n",
       "       [ 4,  5,  6,  7],\n",
       "       [ 8,  9, 10, 11],\n",
       "       [12, 13, 14, 15]])"
      ]
     },
     "execution_count": 31,
     "metadata": {},
     "output_type": "execute_result"
    }
   ],
   "source": [
    "a"
   ]
  },
  {
   "cell_type": "code",
   "execution_count": 34,
   "id": "7686a7bc",
   "metadata": {},
   "outputs": [],
   "source": [
    "[b, c] = np.hsplit(a, 2) "
   ]
  },
  {
   "cell_type": "code",
   "execution_count": 35,
   "id": "3ebf625c",
   "metadata": {},
   "outputs": [
    {
     "data": {
      "text/plain": [
       "array([[ 0,  1],\n",
       "       [ 4,  5],\n",
       "       [ 8,  9],\n",
       "       [12, 13]])"
      ]
     },
     "execution_count": 35,
     "metadata": {},
     "output_type": "execute_result"
    }
   ],
   "source": [
    "b"
   ]
  },
  {
   "cell_type": "code",
   "execution_count": 36,
   "id": "2ea38d66",
   "metadata": {},
   "outputs": [
    {
     "data": {
      "text/plain": [
       "array([[ 2,  3],\n",
       "       [ 6,  7],\n",
       "       [10, 11],\n",
       "       [14, 15]])"
      ]
     },
     "execution_count": 36,
     "metadata": {},
     "output_type": "execute_result"
    }
   ],
   "source": [
    "c"
   ]
  },
  {
   "cell_type": "code",
   "execution_count": 37,
   "id": "8beb665a",
   "metadata": {},
   "outputs": [],
   "source": [
    "[b, c] = np.vsplit(a, 2)"
   ]
  },
  {
   "cell_type": "code",
   "execution_count": 38,
   "id": "f25553e7",
   "metadata": {},
   "outputs": [
    {
     "data": {
      "text/plain": [
       "array([[0, 1, 2, 3],\n",
       "       [4, 5, 6, 7]])"
      ]
     },
     "execution_count": 38,
     "metadata": {},
     "output_type": "execute_result"
    }
   ],
   "source": [
    "b"
   ]
  },
  {
   "cell_type": "code",
   "execution_count": 40,
   "id": "44d36367",
   "metadata": {},
   "outputs": [
    {
     "data": {
      "text/plain": [
       "array([[ 8,  9, 10, 11],\n",
       "       [12, 13, 14, 15]])"
      ]
     },
     "execution_count": 40,
     "metadata": {},
     "output_type": "execute_result"
    }
   ],
   "source": [
    "c"
   ]
  },
  {
   "cell_type": "code",
   "execution_count": 41,
   "id": "d1474ba6",
   "metadata": {},
   "outputs": [],
   "source": [
    "# copy arrays\n",
    "a = np.array([1,2,3,4])"
   ]
  },
  {
   "cell_type": "code",
   "execution_count": 42,
   "id": "a6393df0",
   "metadata": {},
   "outputs": [
    {
     "data": {
      "text/plain": [
       "array([1, 2, 3, 4])"
      ]
     },
     "execution_count": 42,
     "metadata": {},
     "output_type": "execute_result"
    }
   ],
   "source": [
    "a"
   ]
  },
  {
   "cell_type": "code",
   "execution_count": 44,
   "id": "b56bf68d",
   "metadata": {},
   "outputs": [],
   "source": [
    "b = np.copy(a)"
   ]
  },
  {
   "cell_type": "code",
   "execution_count": 45,
   "id": "75e4cc6b",
   "metadata": {},
   "outputs": [
    {
     "data": {
      "text/plain": [
       "array([1, 2, 3, 4])"
      ]
     },
     "execution_count": 45,
     "metadata": {},
     "output_type": "execute_result"
    }
   ],
   "source": [
    "b"
   ]
  },
  {
   "cell_type": "code",
   "execution_count": 47,
   "id": "4ff5e5e6",
   "metadata": {},
   "outputs": [],
   "source": [
    "# generating a random whole number from 1 - 10\n",
    "x = np.random.randint(10)"
   ]
  },
  {
   "cell_type": "code",
   "execution_count": 48,
   "id": "843a9d94",
   "metadata": {},
   "outputs": [
    {
     "data": {
      "text/plain": [
       "4"
      ]
     },
     "execution_count": 48,
     "metadata": {},
     "output_type": "execute_result"
    }
   ],
   "source": [
    "x"
   ]
  },
  {
   "cell_type": "code",
   "execution_count": 49,
   "id": "15845632",
   "metadata": {},
   "outputs": [],
   "source": [
    "# Generating a random float from 0 to 1:\n",
    "y = np.random.rand()"
   ]
  },
  {
   "cell_type": "code",
   "execution_count": 50,
   "id": "b2639c38",
   "metadata": {},
   "outputs": [
    {
     "data": {
      "text/plain": [
       "0.6983351204617229"
      ]
     },
     "execution_count": 50,
     "metadata": {},
     "output_type": "execute_result"
    }
   ],
   "source": [
    "y"
   ]
  },
  {
   "cell_type": "code",
   "execution_count": 51,
   "id": "b2a6e38d",
   "metadata": {},
   "outputs": [],
   "source": [
    "# random numbers with a specified size\n",
    "x = np.random.randint(20, size = 9)"
   ]
  },
  {
   "cell_type": "code",
   "execution_count": 52,
   "id": "2a66e7cb",
   "metadata": {},
   "outputs": [
    {
     "data": {
      "text/plain": [
       "array([12,  7, 18, 10,  6,  5, 19,  6,  2])"
      ]
     },
     "execution_count": 52,
     "metadata": {},
     "output_type": "execute_result"
    }
   ],
   "source": [
    "x"
   ]
  },
  {
   "cell_type": "code",
   "execution_count": 53,
   "id": "52f6c034",
   "metadata": {},
   "outputs": [
    {
     "data": {
      "text/plain": [
       "array([[12,  7, 18],\n",
       "       [10,  6,  5],\n",
       "       [19,  6,  2]])"
      ]
     },
     "execution_count": 53,
     "metadata": {},
     "output_type": "execute_result"
    }
   ],
   "source": [
    "x.reshape(3,3)"
   ]
  },
  {
   "cell_type": "code",
   "execution_count": 54,
   "id": "0959615a",
   "metadata": {},
   "outputs": [],
   "source": [
    "y = np.random.randint(100, size= (3,4))"
   ]
  },
  {
   "cell_type": "code",
   "execution_count": 55,
   "id": "129c6144",
   "metadata": {},
   "outputs": [
    {
     "data": {
      "text/plain": [
       "array([[18, 93, 60, 82],\n",
       "       [97, 40, 78, 27],\n",
       "       [74, 95, 51, 68]])"
      ]
     },
     "execution_count": 55,
     "metadata": {},
     "output_type": "execute_result"
    }
   ],
   "source": [
    "y"
   ]
  },
  {
   "cell_type": "code",
   "execution_count": 56,
   "id": "6efa74da",
   "metadata": {},
   "outputs": [],
   "source": [
    "z = np.random.rand(3,3)"
   ]
  },
  {
   "cell_type": "code",
   "execution_count": 57,
   "id": "59585e63",
   "metadata": {},
   "outputs": [
    {
     "data": {
      "text/plain": [
       "array([[0.5467042 , 0.48874006, 0.65725457],\n",
       "       [0.73510156, 0.48090283, 0.75259317],\n",
       "       [0.5465017 , 0.24608715, 0.19497075]])"
      ]
     },
     "execution_count": 57,
     "metadata": {},
     "output_type": "execute_result"
    }
   ],
   "source": [
    "z"
   ]
  },
  {
   "cell_type": "markdown",
   "id": "ab3b9428",
   "metadata": {},
   "source": [
    "# generating an array of randomly picked numbers from the given array with their respective probability outcome\n"
   ]
  },
  {
   "cell_type": "code",
   "execution_count": 59,
   "id": "27a2be1d",
   "metadata": {},
   "outputs": [
    {
     "data": {
      "text/plain": [
       "array([4, 9, 6, 4, 9, 6, 4, 7, 7, 7, 9, 6, 6, 9, 7, 9, 9, 9, 9, 7])"
      ]
     },
     "execution_count": 59,
     "metadata": {},
     "output_type": "execute_result"
    }
   ],
   "source": [
    "a"
   ]
  },
  {
   "cell_type": "code",
   "execution_count": 61,
   "id": "8f8de621",
   "metadata": {},
   "outputs": [],
   "source": [
    "a = np.random.choice([2,4,7,9,6], p = [0, 0.1, 0.3, 0.5, 0.1], size = (20))"
   ]
  },
  {
   "cell_type": "code",
   "execution_count": 62,
   "id": "3c3c2caa",
   "metadata": {},
   "outputs": [],
   "source": [
    "b = a = np.random.choice([2,4,7,9,6], p = [0, 0.1, 0.3, 0.5, 0.1], size = (4,4))"
   ]
  },
  {
   "cell_type": "code",
   "execution_count": 63,
   "id": "7f86f7be",
   "metadata": {},
   "outputs": [
    {
     "data": {
      "text/plain": [
       "array([[9, 9, 7, 4],\n",
       "       [6, 9, 9, 6],\n",
       "       [7, 6, 7, 9],\n",
       "       [7, 6, 6, 9]])"
      ]
     },
     "execution_count": 63,
     "metadata": {},
     "output_type": "execute_result"
    }
   ],
   "source": [
    "b"
   ]
  },
  {
   "cell_type": "markdown",
   "id": "12895755",
   "metadata": {},
   "source": [
    "# Numpy permutations\n",
    "A permutation refers to an arrangement of elements."
   ]
  },
  {
   "cell_type": "code",
   "execution_count": 64,
   "id": "fe694ae3",
   "metadata": {},
   "outputs": [],
   "source": [
    "# Random shuffle\n",
    "arr = np.array([2,4,6,7,9])"
   ]
  },
  {
   "cell_type": "code",
   "execution_count": 66,
   "id": "2abfec10",
   "metadata": {},
   "outputs": [],
   "source": [
    " np.random.shuffle(arr)"
   ]
  },
  {
   "cell_type": "code",
   "execution_count": 67,
   "id": "6331f55c",
   "metadata": {},
   "outputs": [
    {
     "data": {
      "text/plain": [
       "array([9, 4, 7, 2, 6])"
      ]
     },
     "execution_count": 67,
     "metadata": {},
     "output_type": "execute_result"
    }
   ],
   "source": [
    "arr"
   ]
  },
  {
   "cell_type": "code",
   "execution_count": 68,
   "id": "3aa24f49",
   "metadata": {},
   "outputs": [],
   "source": [
    "a = np.array([23,34,54,22,99])"
   ]
  },
  {
   "cell_type": "code",
   "execution_count": 70,
   "id": "12540e6b",
   "metadata": {},
   "outputs": [
    {
     "data": {
      "text/plain": [
       "array([22, 54, 23, 34, 99])"
      ]
     },
     "execution_count": 70,
     "metadata": {},
     "output_type": "execute_result"
    }
   ],
   "source": [
    "np.random.permutation(a)"
   ]
  },
  {
   "cell_type": "code",
   "execution_count": null,
   "id": "076a27e3",
   "metadata": {},
   "outputs": [],
   "source": []
  }
 ],
 "metadata": {
  "kernelspec": {
   "display_name": "Python 3",
   "language": "python",
   "name": "python3"
  },
  "language_info": {
   "codemirror_mode": {
    "name": "ipython",
    "version": 3
   },
   "file_extension": ".py",
   "mimetype": "text/x-python",
   "name": "python",
   "nbconvert_exporter": "python",
   "pygments_lexer": "ipython3",
   "version": "3.8.8"
  }
 },
 "nbformat": 4,
 "nbformat_minor": 5
}
